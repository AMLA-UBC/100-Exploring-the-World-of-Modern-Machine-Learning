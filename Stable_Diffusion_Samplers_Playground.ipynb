{
  "nbformat": 4,
  "nbformat_minor": 0,
  "metadata": {
    "colab": {
      "provenance": []
    },
    "kernelspec": {
      "name": "python3",
      "display_name": "Python 3"
    },
    "language_info": {
      "name": "python"
    }
  },
  "cells": [
    {
      "cell_type": "markdown",
      "metadata": {
        "id": "view-in-github"
      },
      "source": [
        "[![Open In Colab](https://colab.research.google.com/assets/colab-badge.svg)](https://colab.research.google.com/github/AMLA-UBC/100-Exploring-the-World-of-Modern-Machine-Learning/blob/main/Stable_Diffusion_Samplers_Playground.ipynb)"
      ]
    },
    {
      "cell_type": "markdown",
      "source": [
        "In any of the sampling examples below, you can adjust the `steps`, `size`, `kernel_size`, and `alpha` parameters to see the effects of adding varying levels of noise to the output animation."
      ],
      "metadata": {
        "id": "SDT2AvAnoI7d"
      }
    },
    {
      "cell_type": "markdown",
      "source": [
        "# K-means Euler Ancestral (KEA)\n",
        "\n",
        "This program generates a random image of size 100x100, and then uses the KEA method to sample the image over 50 steps. The animation shows the progression of the sampling process, with the image becoming gradually more clustered as the animation progresses. The `kernel_size` parameter in the `kea_sampling` function controls the number of clusters to use, and the `steps` parameter controls the number of iterations of the sampling process. After running this cell, see the Files folder on Colab to view the KEA sampling animation."
      ],
      "metadata": {
        "id": "HMmmfzsdchXW"
      }
    },
    {
      "cell_type": "code",
      "source": [
        "import numpy as np\n",
        "import matplotlib.pyplot as plt\n",
        "from matplotlib.animation import FuncAnimation\n",
        "from sklearn.cluster import KMeans\n",
        "\n",
        "# Function to generate a random image\n",
        "def generate_random_image(size):\n",
        "    img = np.random.rand(size, size, 3)\n",
        "    return img\n",
        "\n",
        "# Function to perform KEA sampling on the image\n",
        "def kea_sampling(img, kernel_size, steps):\n",
        "    kernel_size = int(max(kernel_size, 1))\n",
        "    img_flat = img.reshape(-1, 3)\n",
        "    kmeans = KMeans(n_clusters=kernel_size, random_state=0).fit(img_flat)\n",
        "    labels = kmeans.predict(img_flat)\n",
        "    for i in range(steps):\n",
        "        for j in range(kernel_size):\n",
        "            cluster_points = img_flat[labels == j]\n",
        "            new_center = np.mean(cluster_points, axis=0)\n",
        "            cluster_points += np.random.normal(0, 0.01, cluster_points.shape)\n",
        "            dist = np.linalg.norm(cluster_points - new_center, axis=1)\n",
        "            nearest = np.argmin(dist)\n",
        "            img_flat[labels == j][nearest] = new_center\n",
        "    return img_flat.reshape(100, 100, 3)\n",
        "\n",
        "# Set up the figure and axis for the animation\n",
        "fig, ax = plt.subplots()\n",
        "img = generate_random_image(100)\n",
        "im = ax.imshow(img, animated=True)\n",
        "\n",
        "# Function to update the animation at each step\n",
        "def update(i):\n",
        "    global img\n",
        "    img = kea_sampling(img, 3, 1)\n",
        "    im.set_data(img)\n",
        "\n",
        "# Create the animation\n",
        "ani = FuncAnimation(fig, update, frames=np.arange(0, 50), repeat=True)\n",
        "ani.save('kea_animation.mp4', writer='ffmpeg')"
      ],
      "metadata": {
        "id": "2yCTgbO-3-u9"
      },
      "execution_count": null,
      "outputs": []
    },
    {
      "cell_type": "markdown",
      "source": [
        "# Kernel Least Mean Square (KLMS)\n",
        "\n",
        "KLMS is a machine learning algorithm that is used for non-linear function approximation. The algorithm works by using a kernel function to map the input data into a higher-dimensional space, where the data becomes linearly separable. Once the data is in this higher-dimensional space, the algorithm finds the optimal linear combination of the data points that best fits the output."
      ],
      "metadata": {
        "id": "H9XP-ijKc4Rj"
      }
    },
    {
      "cell_type": "code",
      "execution_count": null,
      "metadata": {
        "id": "7fdh4MY2g6za"
      },
      "outputs": [],
      "source": [
        "import numpy as np\n",
        "import matplotlib.pyplot as plt\n",
        "from matplotlib.animation import FuncAnimation\n",
        "\n",
        "# Function to generate a noisy image\n",
        "def generate_noisy_image(size):\n",
        "    img = np.random.rand(size, size)\n",
        "    img = img + np.random.normal(0, 0.1, img.shape)\n",
        "    return img\n",
        "\n",
        "# Function to denoise the image using KLMS\n",
        "def denoise_image(img, kernel_size, steps):\n",
        "    kernel_size = int(max(kernel_size, 1))\n",
        "    kernel = np.random.rand(kernel_size, kernel_size)\n",
        "    denoised_img = img.copy()\n",
        "    for i in range(steps):\n",
        "        for x in range(img.shape[0] - kernel_size):\n",
        "            for y in range(img.shape[1] - kernel_size):\n",
        "                kernel_img = img[x:x+kernel_size, y:y+kernel_size]\n",
        "                error = kernel_img - kernel\n",
        "                kernel = kernel + 0.1 * error\n",
        "                denoised_img[x:x+kernel_size, y:y+kernel_size] = kernel\n",
        "    return denoised_img\n",
        "\n",
        "# Set up the figure and axis for the animation\n",
        "fig, ax = plt.subplots()\n",
        "img = generate_noisy_image(100)\n",
        "im = ax.imshow(img, cmap='gray', animated=True)\n",
        "\n",
        "# Function to update the animation at each step\n",
        "def update(i):\n",
        "    global img\n",
        "    img = denoise_image(img, 3, 1)\n",
        "    im.set_data(img)\n",
        "\n",
        "# Create the animation\n",
        "ani = FuncAnimation(fig, update, frames=np.arange(0, 50), repeat=True)\n",
        "plt.show()\n",
        "ani.save('klms_animation.mp4', writer='ffmpeg')"
      ]
    },
    {
      "cell_type": "markdown",
      "source": [
        "# Denoising Diffusion Implicit Models (DDIM)\n",
        "\n",
        "DDIM is a type of image processing technique that is used to remove noise from an image. It is based on the principle of diffusion, which is the process of spreading something out evenly. In the case of DDIM, the technique spreads out the noise in an image so that it becomes less noticeable. One of the advantages of DDIM is that it preserves the edges and details of the image while removing the noise. This is because the diffusion equations are applied only to the areas of the image that are close to the edges, and not to the areas that are already smooth. After running this cell, see the Files folder on Colab to view the DDIM sampling animation."
      ],
      "metadata": {
        "id": "5izbo05XO6cJ"
      }
    },
    {
      "cell_type": "code",
      "source": [
        "import numpy as np\n",
        "import matplotlib.pyplot as plt\n",
        "from matplotlib.animation import FuncAnimation\n",
        "\n",
        "# Function to generate a noisy image\n",
        "def generate_noisy_image(size):\n",
        "    img = np.random.rand(size, size)\n",
        "    img = img + np.random.normal(0, 0.1, img.shape)\n",
        "    return img\n",
        "\n",
        "# Function to denoise the image using DDIM\n",
        "def denoise_image(img, alpha, steps):\n",
        "    denoised_img = img.copy()\n",
        "    for i in range(steps):\n",
        "        diff = denoised_img[:-1, :] - denoised_img[1:, :]\n",
        "        denoised_img[1:, :] = denoised_img[1:, :] + alpha * diff\n",
        "        diff = denoised_img[:, :-1] - denoised_img[:, 1:]\n",
        "        denoised_img[:, 1:] = denoised_img[:, 1:] + alpha * diff\n",
        "    return denoised_img\n",
        "\n",
        "# Set up the figure and axis for the animation\n",
        "fig, ax = plt.subplots()\n",
        "img = generate_noisy_image(100)\n",
        "im = ax.imshow(img, cmap='gray', animated=True)\n",
        "\n",
        "# Function to update the animation at each step\n",
        "def update(i):\n",
        "    global img\n",
        "    img = denoise_image(img, 3, 1)\n",
        "    im.set_data(img)\n",
        "\n",
        "# Create the animation\n",
        "ani = FuncAnimation(fig, update, frames=np.arange(0, 50), repeat=True)\n",
        "plt.show()\n",
        "ani.save('ddim_sampling_animation.mp4', writer='ffmpeg')"
      ],
      "metadata": {
        "id": "BIW6vrIkO71M"
      },
      "execution_count": null,
      "outputs": []
    },
    {
      "cell_type": "markdown",
      "source": [
        "# Dimension-based Partitioning and Merging (DPM 2)\n",
        "\n",
        "The animation saved to Files shows the progression of the partitioning and merging process, with the image becoming gradually more clustered as the animation progresses. The threshold parameter in the `partition_image` function controls the threshold for partitioning the image, and the distance parameter in the `merge_partitions` function controls the distance between partitions that are merged."
      ],
      "metadata": {
        "id": "OYOVxI56D_2Y"
      }
    },
    {
      "cell_type": "code",
      "source": [
        "import numpy as np\n",
        "import matplotlib.pyplot as plt\n",
        "from matplotlib.animation import FuncAnimation\n",
        "\n",
        "# Function to generate a noisy image\n",
        "def generate_noisy_image(size):\n",
        "    img = np.random.rand(size, size)\n",
        "    img = img + np.random.normal(0, 0.1, img.shape)\n",
        "    return img\n",
        "\n",
        "# Function to denoise the image using DDIM\n",
        "def denoise_image(img, alpha, steps):\n",
        "    denoised_img = img.copy()\n",
        "    for i in range(steps):\n",
        "        diff = denoised_img[:-1, :] - denoised_img[1:, :]\n",
        "        denoised_img[1:, :] = denoised_img[1:, :] + alpha * diff\n",
        "        diff = denoised_img[:, :-1] - denoised_img[:, 1:]\n",
        "        denoised_img[:, 1:] = denoised_img[:, 1:] + alpha * diff\n",
        "    return denoised_img\n",
        "\n",
        "# Set up the figure and axis for the animation\n",
        "fig, ax = plt.subplots()\n",
        "img = generate_noisy_image(100)\n",
        "im = ax.imshow(img, cmap='gray', animated=True)\n",
        "\n",
        "# Function to update the animation at each step\n",
        "def update(i):\n",
        "    global img\n",
        "    img = denoise_image(img, 3, 1)\n",
        "    im.set_data(img)\n",
        "\n",
        "# Create the animation\n",
        "ani = FuncAnimation(fig, update, frames=np.arange(0, 50), repeat=True)\n",
        "plt.show()\n",
        "ani.save('dpm2_animation.mp4', writer='ffmpeg')"
      ],
      "metadata": {
        "id": "j9v4rlZ3EDxm"
      },
      "execution_count": null,
      "outputs": []
    }
  ]
}
