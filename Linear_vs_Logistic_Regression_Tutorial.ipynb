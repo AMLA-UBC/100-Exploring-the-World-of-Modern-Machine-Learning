{
  "cells": [
    {
      "cell_type": "markdown",
      "source": [
        "[![Open In Colab]((https://colab.research.google.com/assets/colab-badge.svg))](https://colab.research.google.com/github/AMLA-UBC/100-Exploring-the-World-of-Modern-Machine-Learning/blob/main/Linear_vs_Logistic_Regression_Tutorial.ipynb)"
      ],
      "metadata": {
        "id": "view-in-github"
      }
    },
    {
      "cell_type": "markdown",
      "metadata": {
        "id": "Ug0jh4IYtctw"
      },
      "source": [
        "# Visualize the Difference"
      ]
    },
    {
      "cell_type": "markdown",
      "metadata": {
        "id": "D451tBOst-me"
      },
      "source": [
        "This tutorial explains how to create a linear regression and logistic regression model using the **California Housing Dataset** and **Breast Cancer Wisconsin Dataset**. The dataset is split into features and labels, and then split into training and testing sets. The models are created using TensorFlow 2, compiled and fitted, and then evaluated for accuracy. By the end of this tutorial, we will understand the advantages and disadvantages of linear and logistic regression models."
      ]
    },
    {
      "cell_type": "markdown",
      "metadata": {
        "id": "HocaK4feurGA"
      },
      "source": [
        "# Install and Import Required Libraries"
      ]
    },
    {
      "cell_type": "code",
      "execution_count": null,
      "metadata": {
        "id": "YLD-dE_om2nD"
      },
      "outputs": [],
      "source": [
        "!pip install -q tensorflow pandas numpy\n",
        "\n",
        "import tensorflow as tf\n",
        "import numpy as np\n",
        "import pandas as pd\n",
        "import matplotlib.pyplot as plt\n",
        "from sklearn.datasets import fetch_california_housing, load_breast_cancer"
      ]
    },
    {
      "cell_type": "markdown",
      "metadata": {
        "id": "yLlVR690xAVI"
      },
      "source": [
        "# Load the California Housing Dataset"
      ]
    },
    {
      "cell_type": "markdown",
      "metadata": {
        "id": "TnSftyGT5a9i"
      },
      "source": [
        "The California Housing Dataset is used to predict median house values in California."
      ]
    },
    {
      "cell_type": "code",
      "execution_count": null,
      "metadata": {
        "id": "EL9lkvUNxC7Y"
      },
      "outputs": [],
      "source": [
        "# Load the dataset\n",
        "california_dataset = fetch_california_housing()\n",
        "\n",
        "# Create a dataframe from the dataset\n",
        "df = pd.DataFrame(california_dataset.data, columns=california_dataset.feature_names)\n",
        "\n",
        "# Add the target column\n",
        "df['MedHouseVal'] = california_dataset.target\n",
        "\n",
        "# Split the dataset into features and labels\n",
        "X = df.drop('MedHouseVal', axis=1).values\n",
        "y = df['MedHouseVal'].values\n",
        "\n",
        "# Split the data into training and testing sets\n",
        "from sklearn.model_selection import train_test_split\n",
        "X_train, X_test, y_train, y_test = train_test_split(X, y, test_size=0.2, random_state=0)"
      ]
    },
    {
      "cell_type": "markdown",
      "metadata": {
        "id": "lcameMtAt2sR"
      },
      "source": [
        "# Linear Regression Model - Housing Price"
      ]
    },
    {
      "cell_type": "markdown",
      "metadata": {
        "id": "wkwO-GgFvLR5"
      },
      "source": [
        "After running each regression model, should see the test accuracy of the model, which is a measure of how well the model is performing."
      ]
    },
    {
      "cell_type": "code",
      "execution_count": null,
      "metadata": {
        "colab": {
          "base_uri": "https://localhost:8080/",
          "height": 1000
        },
        "id": "UP5xo8Ngu7Ro",
        "outputId": "7674f5fb-8b64-43f0-df36-1ee638f4a78e"
      },
      "outputs": [],
      "source": [
        "# Create the linear regression model\n",
        "model = tf.keras.models.Sequential([\n",
        "    tf.keras.layers.Dense(32, activation='relu'),\n",
        "    tf.keras.layers.Dense(32, activation='relu'),\n",
        "    tf.keras.layers.Dense(1)\n",
        "])\n",
        "# Compile and fit the model\n",
        "model.compile(optimizer='adam', loss='mse', metrics=['accuracy'])\n",
        "history = model.fit(X_train, y_train, epochs=50)\n",
        "\n",
        "# Plot the loss over time\n",
        "plt.plot(history.history['loss'])\n",
        "plt.title('Linear Regression Model Loss')\n",
        "plt.xlabel('Epoch')\n",
        "plt.ylabel('Loss')\n",
        "plt.show()\n",
        "\n",
        "# Evaluate the model\n",
        "test_loss, test_acc = model.evaluate(X_test, y_test)\n",
        "print('Test accuracy:', test_acc)"
      ]
    },
    {
      "cell_type": "markdown",
      "metadata": {
        "id": "H_iP6wdovcUo"
      },
      "source": [
        "# Logistic Regression Model - Housing Price\n",
        "\n"
      ]
    },
    {
      "cell_type": "code",
      "execution_count": null,
      "metadata": {
        "colab": {
          "base_uri": "https://localhost:8080/",
          "height": 1000
        },
        "id": "B9p5JsOKviJw",
        "outputId": "8861f892-9b9b-465f-c20d-e5825d8c0dc6"
      },
      "outputs": [],
      "source": [
        "# Create the logistic regression model\n",
        "model = tf.keras.models.Sequential([\n",
        "    tf.keras.layers.Dense(32, activation='relu'),\n",
        "    tf.keras.layers.Dense(32, activation='relu'),\n",
        "    tf.keras.layers.Dense(1, activation='sigmoid')\n",
        "])\n",
        "\n",
        "# Compile and fit the model\n",
        "model.compile(optimizer='adam', loss='binary_crossentropy', metrics=['accuracy'])\n",
        "\n",
        "history = model.fit(X_train, y_train, epochs=50)\n",
        "\n",
        "# Plot the loss over time\n",
        "plt.plot(history.history['loss'])\n",
        "plt.title('Logistic Regression Model Loss')\n",
        "plt.xlabel('Epoch')\n",
        "plt.ylabel('Loss')\n",
        "plt.show()\n",
        "\n",
        "# Evaluate the model\n",
        "test_loss, test_acc = model.evaluate(X_test, y_test)\n",
        "print('Test accuracy:', test_acc)"
      ]
    },
    {
      "cell_type": "markdown",
      "metadata": {
        "id": "LJdaCH6b2eJr"
      },
      "source": [
        "The loss of logistic regression keeps on decreasing because it is being optimized by an optimization algorithm. The optimization algorithm is trying to minimize the loss function by adjusting the parameters of the model. As the parameters are adjusted, the loss decreases. The final loss is a large negative value because the optimization algorithm has found the parameters that minimize the loss."
      ]
    },
    {
      "cell_type": "markdown",
      "metadata": {
        "id": "rCKoa6YV3se0"
      },
      "source": [
        "# Load the Breast Cancer Wisconsin Dataset"
      ]
    },
    {
      "cell_type": "markdown",
      "metadata": {
        "id": "_fIhxYZs5QPr"
      },
      "source": [
        "In the Breast Cancer Dataset, we are predicting whether or not a patient has breast cancer."
      ]
    },
    {
      "cell_type": "code",
      "execution_count": null,
      "metadata": {
        "id": "8HiY4bmA3z7q"
      },
      "outputs": [],
      "source": [
        "# Load the dataset\n",
        "cancer_dataset = load_breast_cancer()\n",
        "\n",
        "# Create a dataframe from the dataset\n",
        "df = pd.DataFrame(cancer_dataset.data, columns=cancer_dataset.feature_names)\n",
        "\n",
        "# Add the target column\n",
        "df['target'] = cancer_dataset.target\n",
        "\n",
        "# Split the dataset into features and labels\n",
        "X = df.drop('target', axis=1).values\n",
        "y = df['target'].values\n",
        "\n",
        "# Split the data into training and testing sets\n",
        "from sklearn.model_selection import train_test_split\n",
        "X_train, X_test, y_train, y_test = train_test_split(X, y, test_size=0.2, random_state=0)"
      ]
    },
    {
      "cell_type": "markdown",
      "metadata": {
        "id": "0fspwoSg4Y6d"
      },
      "source": [
        "# Linear Regression Model - Breast Cancer"
      ]
    },
    {
      "cell_type": "code",
      "execution_count": null,
      "metadata": {
        "colab": {
          "base_uri": "https://localhost:8080/",
          "height": 1000
        },
        "id": "7RjmdXKK4uoX",
        "outputId": "b0793e8b-ff59-4a37-839b-35108f96c478"
      },
      "outputs": [],
      "source": [
        "# Create the linear regression model\n",
        "model = tf.keras.models.Sequential([\n",
        "    tf.keras.layers.Dense(32, activation='relu'),\n",
        "    tf.keras.layers.Dense(32, activation='relu'),\n",
        "    tf.keras.layers.Dense(1)\n",
        "])\n",
        "# Compile and fit the model\n",
        "model.compile(optimizer='adam', loss='mse', metrics=['accuracy'])\n",
        "history = model.fit(X_train, y_train, epochs=50)\n",
        "\n",
        "# Plot the loss over time\n",
        "plt.plot(history.history['loss'])\n",
        "plt.title('Linear Regression Model Loss')\n",
        "plt.xlabel('Epoch')\n",
        "plt.ylabel('Loss')\n",
        "plt.show()\n",
        "\n",
        "# Evaluate the model\n",
        "test_loss, test_acc = model.evaluate(X_test, y_test)\n",
        "print('Test accuracy:', test_acc)"
      ]
    },
    {
      "cell_type": "markdown",
      "metadata": {
        "id": "oH00rNgZ4-P5"
      },
      "source": [
        "# Logistic Regression Model - Breast Cancer"
      ]
    },
    {
      "cell_type": "code",
      "execution_count": null,
      "metadata": {
        "colab": {
          "base_uri": "https://localhost:8080/",
          "height": 1000
        },
        "id": "4afNqKeX5B3Q",
        "outputId": "022b8ba6-772a-4609-b986-33508869b023"
      },
      "outputs": [],
      "source": [
        "# Create the logistic regression model\n",
        "model = tf.keras.models.Sequential([\n",
        "    tf.keras.layers.Dense(32, activation='relu'),\n",
        "    tf.keras.layers.Dense(32, activation='relu'),\n",
        "    tf.keras.layers.Dense(1, activation='sigmoid')\n",
        "])\n",
        "\n",
        "# Compile and fit the model\n",
        "model.compile(optimizer='adam', loss='binary_crossentropy', metrics=['accuracy'])\n",
        "\n",
        "history = model.fit(X_train, y_train, epochs=50)\n",
        "\n",
        "# Plot the loss over time\n",
        "plt.plot(history.history['loss'])\n",
        "plt.title('Logistic Regression Model Loss')\n",
        "plt.xlabel('Epoch')\n",
        "plt.ylabel('Loss')\n",
        "plt.show()\n",
        "\n",
        "# Evaluate the model\n",
        "test_loss, test_acc = model.evaluate(X_test, y_test)\n",
        "print('Test accuracy:', test_acc)"
      ]
    },
    {
      "cell_type": "markdown",
      "metadata": {
        "id": "gCg14r-n6QNt"
      },
      "source": [
        "# Main Takeaways"
      ]
    },
    {
      "attachments": {},
      "cell_type": "markdown",
      "metadata": {
        "id": "Vum1ixvM6SdK"
      },
      "source": [
        "Advantages of Linear Regression: \n",
        "- simpler and easier to understand \n",
        "- can be used to predict continuous values \n",
        "- can be used to identify relationships between variables \n",
        "\n",
        "Disadvantages of Linear Regression: \n",
        "- sensitive to outliers \n",
        "- only applicable to linear relationships \n",
        "\n",
        "Advantages of Logistic Regression: \n",
        "- more robust to outliers \n",
        "- can be used to predict discrete values \n",
        "- can capture non-linear relationships \n",
        "\n",
        "Disadvantages of Logistic Regression: \n",
        "- more complex and harder to understand"
      ]
    },
    {
      "cell_type": "markdown",
      "metadata": {
        "id": "hX9BqeAQ6zBy"
      },
      "source": [
        "# Disadvantages of Both Models\n",
        "\n",
        "The California Housing dataset is a complex dataset with many features and a wide range of values. This makes it difficult for a linear regression or logistic regression model to accurately predict the target values."
      ]
    }
  ],
  "metadata": {
    "accelerator": "GPU",
    "colab": {
      "provenance": []
    },
    "gpuClass": "standard",
    "kernelspec": {
      "display_name": "Python 3",
      "name": "python3"
    },
    "language_info": {
      "name": "python"
    }
  },
  "nbformat": 4,
  "nbformat_minor": 0
}
