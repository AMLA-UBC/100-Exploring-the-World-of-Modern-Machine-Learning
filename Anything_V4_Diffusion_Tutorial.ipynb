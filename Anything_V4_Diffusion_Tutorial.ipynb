{
  "cells": [
    {
      "cell_type": "markdown",
      "metadata": {
        "id": "view-in-github"
      },
      "source": [
        "[![Open In Colab](https://colab.research.google.com/assets/colab-badge.svg)](https://colab.research.google.com/github/AMLA-UBC/100-Exploring-the-World-of-Modern-Machine-Learning/blob/main/Anything_V4_Diffusion_Tutorial.ipynb)"
      ]
    },
    {
      "cell_type": "markdown",
      "metadata": {
        "id": "Qc5Z44EdT1N6"
      },
      "source": [
        "# Anything V4\n",
        "\n",
        "Introducing Anything V4, the latest and greatest in anime-style image generation model. This model is designed to produce incredibly detailed anime-style images with just a few simple prompts, and it supports danbooru tags for even more customization.\n",
        "\n",
        "Using Anything V4 is easy, even for those unfamiliar with Stable Diffusion models. We've got you covered with a Gradio web UI that makes it a breeze to get started. And if you're a tech-savvy user, you can even export the model to ONNX, MPS, or FLAX/JAX.\n",
        "\n",
        "Let's take a look at some of the amazing images generated with this model. From anime girls to boys, from casual coffee shops to scenic outdoor vistas, Anything V4 delivers stunning results every time. Give it a try and see for yourself!",
        "\n",
        "But wait, there's more! The V4.5 version is even better, offering an even more immersive anime experience. Trust us, it's worth checking out. Plus, the model includes the highly-regarded [AbyssOrangeMix2](https://huggingface.co/WarriorMama777/OrangeMixs/tree/main/Models/AbyssOrangeMix2) for top-notch results."
      ]
    },
    {
      "cell_type": "markdown",
      "metadata": {
        "id": "gmDrYwWFVDII"
      },
      "source": [
        "# Display Examples (Optional)\n",
        "\n",
        "The examples were generated without any negative prompts. A descriptive negative prompt such as\n",
        "```\n",
        "ugly, morbid, extra arms, blurry eyes, extra digits, extra legs, ((fewer digits)), bad arm, amputee, error, ((no pupils)), blurry, bad feet, bad anatomy, bad proportions, missing limb, long neck, deformed, messy, broken leg, extra breasts, greyscale, vhs artifacts, web address, lowres\n",
        "```\n",
        "greatly increases the coherency and precision, allowing the AI-generated images to look much closer to human-drawn art pieces."
      ]
    },
    {
      "cell_type": "code",
      "execution_count": null,
      "metadata": {
        "id": "sPA5v_rZU8Aw"
      },
      "outputs": [],
      "source": [
        "import requests\n",
        "from IPython.display import display, Markdown, Image\n",
        "\n",
        "def display_text_image(text, image_url):\n",
        "  display(Markdown(f'```\\n{text}\\n```'))\n",
        "  response = requests.get(image_url)\n",
        "  image = Image(data=response.content)\n",
        "  display(image)\n",
        "\n",
        "# Anime Girl\n",
        "text = '''masterpiece, best quality, 1girl, white hair, medium hair, cat ears, closed eyes, looking at viewer, :3, cute, scarf, jacket, outdoors, streets\n",
        "Steps: 20, Sampler: DPM++ 2M Karras, CFG scale: 7'''\n",
        "image_url = 'https://huggingface.co/andite/anything-v4.0/resolve/main/example-1.png'\n",
        "display_text_image(text, image_url)\n",
        "\n",
        "# Anime Boy\n",
        "text = '''\\n1boy, bishounen, casual, indoors, sitting, coffee shop, bokeh\n",
        "Steps: 20, Sampler: DPM++ 2M Karras, CFG scale: 7'''\n",
        "image_url = 'https://huggingface.co/andite/anything-v4.0/resolve/main/example-2.png'\n",
        "display_text_image(text, image_url)\n",
        "\n",
        "# Scenery\n",
        "text = '''\\nscenery, village, outdoors, sky, clouds\n",
        "Steps: 50, Sampler: DPM++ 2S a Karras, CFG scale: 7'''\n",
        "image_url = 'https://huggingface.co/andite/anything-v4.0/resolve/main/example-4.png'\n",
        "display_text_image(text, image_url)"
      ]
    },
    {
      "cell_type": "markdown",
      "metadata": {
        "id": "OVb5KGgzRDAT"
      },
      "source": [
        "# Download Stable Diffusion WebUI and Anything V4"
      ]
    },
    {
      "cell_type": "code",
      "execution_count": null,
      "metadata": {
        "colab": {
          "base_uri": "https://localhost:8080/"
        },
        "id": "tNv-0nrZQ_zF",
        "outputId": "e9b0279e-fc49-46d7-e74f-80ae3a7617b0"
      },
      "outputs": [],
      "source": [
        "!pip install -q https://github.com/camenduru/stable-diffusion-webui-colab/releases/download/0.0.16/xformers-0.0.16+814314d.d20230118-cp38-cp38-linux_x86_64.whl\n",
        "!pip install -q --pre triton\n",
        "\n",
        "!git clone -b v1.6 https://github.com/camenduru/stable-diffusion-webui\n",
        "!wget https://raw.githubusercontent.com/camenduru/stable-diffusion-webui-scripts/main/run_n_times.py -O /content/stable-diffusion-webui/scripts/run_n_times.py\n",
        "!git clone https://github.com/camenduru/deforum-for-automatic1111-webui /content/stable-diffusion-webui/extensions/deforum-for-automatic1111-webui\n",
        "!git clone https://github.com/yfszzx/stable-diffusion-webui-images-browser /content/stable-diffusion-webui/extensions/stable-diffusion-webui-images-browser\n",
        "!git clone https://github.com/camenduru/stable-diffusion-webui-huggingface /content/stable-diffusion-webui/extensions/stable-diffusion-webui-huggingface\n",
        "!git clone https://github.com/camenduru/sd-civitai-browser /content/stable-diffusion-webui/extensions/sd-civitai-browser\n",
        "!git clone https://github.com/camenduru/sd-webui-additional-networks /content/stable-diffusion-webui/extensions/sd-webui-additional-networks\n",
        "%cd /content/stable-diffusion-webui\n",
        "\n",
        "!wget https://huggingface.co/ckpt/anything-v4.0/resolve/main/anything-v4.0-pruned.ckpt -O /content/stable-diffusion-webui/models/Stable-diffusion/anything-v4.0-pruned.ckpt\n",
        "!wget https://huggingface.co/ckpt/anything-v4.0/resolve/main/anything-v4.5-pruned.ckpt -O /content/stable-diffusion-webui/models/Stable-diffusion/anything-v4.5-pruned.ckpt\n",
        "!wget https://huggingface.co/ckpt/anything-v4.0/resolve/main/anything-v4.0.vae.pt -O /content/stable-diffusion-webui/models/Stable-diffusion/anything-v4.0-pruned.vae.pt\n",
        "\n",
        "!sed -i -e '''/prepare_environment()/a\\    os.system\\(f\\\"\"\"sed -i -e ''\\\"s/dict()))/dict())).cuda()/g\\\"'' /content/stable-diffusion-webui/repositories/stable-diffusion-stability-ai/ldm/util.py\"\"\")''' /content/stable-diffusion-webui/launch.py"
      ]
    },
    {
      "cell_type": "code",
      "execution_count": null,
      "metadata": {
        "colab": {
          "base_uri": "https://localhost:8080/"
        },
        "id": "UGIbtn4O--x8",
        "outputId": "dbed212b-764b-47a4-a7cc-db81b7a21894"
      },
      "outputs": [],
      "source": [
        "!python launch.py --share --xformers --enable-insecure-extension-access"
      ]
    }
  ],
  "metadata": {
    "accelerator": "GPU",
    "colab": {
      "provenance": []
    },
    "gpuClass": "standard",
    "kernelspec": {
      "display_name": "Python 3",
      "name": "python3"
    },
    "language_info": {
      "name": "python"
    }
  },
  "nbformat": 4,
  "nbformat_minor": 0
}
