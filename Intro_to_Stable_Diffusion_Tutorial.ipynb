{
  "cells": [
    {
      "cell_type": "markdown",
      "metadata": {
        "id": "view-in-github"
      },
      "source": [
        "[![Open In Colab](https://colab.research.google.com/assets/colab-badge.svg)](https://colab.research.google.com/github/AMLA-UBC/100-Exploring-the-World-of-Modern-Machine-Learning/blob/main/Intro_to_Stable_Diffusion_Tutorial.ipynb)"
      ]
    },
    {
      "cell_type": "markdown",
      "metadata": {
        "id": "jnXUwtACCHOy"
      },
      "source": [
        "## Stable Diffusion (Text-to-image) with the Sygil WebUI\n",
        "\n",
        "Sygil provies a simple WebUI for us to work with Stable Diffusion models and basic text-to-image settings right from our browser."
      ]
    },
    {
      "cell_type": "markdown",
      "metadata": {
        "id": "RXasLtrYC9uj"
      },
      "source": [
        "First, let's clone Sygil WebUI GitHub repo and install required modules.\n"
      ]
    },
    {
      "cell_type": "code",
      "execution_count": null,
      "metadata": {
        "cellView": "form",
        "id": "LSCxESSsDGVh"
      },
      "outputs": [],
      "source": [
        "import sys, os\n",
        "\n",
        "#@markdown\n",
        "!nvidia-smi -L\n",
        "!git clone https://github.com/Sygil-Dev/sygil-webui stable-diffusion\n",
        "%cd /content/stable-diffusion\n",
        "!pip install -r requirements.txt\n",
        "\n",
        "# %cd /content/stable-diffusion\n",
        "# !wget https://repo.anaconda.com/miniconda/Miniconda3-latest-Linux-x86_64.sh\n",
        "# !chmod +x Miniconda3-latest-Linux-x86_64.sh\n",
        "# !bash ./Miniconda3-latest-Linux-x86_64.sh -b -f -p /usr/local\n",
        "# !rm Miniconda3-latest-Linux-x86_64.sh\n",
        "sys.path.append('/usr/local/lib/python3.7/site-packages/')"
      ]
    },
    {
      "cell_type": "markdown",
      "metadata": {
        "id": "vhZQqFGxEHcA"
      },
      "source": [
        "## Setup Environment and Upscalers - CFPGan and R-ESRGAN"
      ]
    },
    {
      "cell_type": "code",
      "execution_count": null,
      "metadata": {
        "cellView": "form",
        "id": "M3o7slcTEQvp"
      },
      "outputs": [],
      "source": [
        "#@markdown Conda environment takes roughly 15 minutes to \n",
        "# !conda env update -n base -f /content/stable-diffusion/environment.yaml \n",
        "\n",
        "#@markdown **GFPGAN** automatically corrects distorted faces with a built-in GFPGAN option, fixes them in less than half a second\n",
        "\n",
        "#@markdown **RESRGAN** boosts the resolution of images\n",
        "\n",
        "#@markdown **LDSR** and GoBig enable amazing upscale options in the new Image Lab\n",
        "\n",
        "add_CFP = False #@param {type:\"boolean\"} \n",
        "add_RESRGAN = True #@param {type:\"boolean\"}\n",
        "add_LDSR = False #@param {type:\"boolean\"} \n",
        "\n",
        "if add_CFP:\n",
        "  %cd /content/stable-diffusion/src/gfpgan/\n",
        "  !pip install basicsr facexlib yapf lmdb opencv-python pyyaml tb-nightly --no-deps\n",
        "  !python setup.py develop\n",
        "  !pip install realesrgan\n",
        "  !wget https://github.com/TencentARC/GFPGAN/releases/download/v1.3.0/GFPGANv1.3.pth -P experiments/pretrained_models\n",
        "if add_RESRGAN:\n",
        "  %cd /content/stable-diffusion/src/realesrgan/\n",
        "  !wget https://github.com/xinntao/Real-ESRGAN/releases/download/v0.1.0/RealESRGAN_x4plus.pth -P experiments/pretrained_models\n",
        "  !wget https://github.com/xinntao/Real-ESRGAN/releases/download/v0.2.2.4/RealESRGAN_x4plus_anime_6B.pth -P experiments/pretrained_models\n",
        "if add_LDSR:\n",
        "  %cd /content/stable-diffusion/src\n",
        "  !git clone https://github.com/devilismyfriend/latent-diffusion\n",
        "  %cd latent-diffusion\n",
        "  %mkdir -p experiments/\n",
        "  %cd experiments/\n",
        "  %mkdir -p pretrained_models\n",
        "  %cd pretrained_models\n",
        "  #project.yaml download\n",
        "  !wget -O project.yaml https://heibox.uni-heidelberg.de/f/31a76b13ea27482981b4/?dl=1\n",
        "  #model.ckpt model download\n",
        "  !wget -O model.ckpt https://heibox.uni-heidelberg.de/f/578df07c8fc04ffbadf3/?dl=1\n",
        "\n",
        "%cd /content/stable-diffusion/\n",
        "!wget https://github.com/matomo-org/travis-scripts/blob/master/fonts/Arial.ttf?raw=true -O arial.ttf"
      ]
    },
    {
      "cell_type": "markdown",
      "metadata": {
        "id": "mBFOSYR91AeT"
      },
      "source": [
        "### Model Checkpoint Settings"
      ]
    },
    {
      "cell_type": "code",
      "execution_count": null,
      "metadata": {
        "cellView": "form",
        "id": "vkgBVo5OEpqn",
        "colab": {
          "base_uri": "https://localhost:8080/"
        },
        "outputId": "cc7a0384-16b0-44ff-dfc3-98c1ac787891"
      },
      "outputs": [
        {
          "output_type": "stream",
          "name": "stdout",
          "text": [
            "Local Path Variables:\n",
            "\n",
            "Model already downloaded. Moving on to the next step\n",
            "models_path: models\n",
            "output_path: output\n"
          ]
        }
      ],
      "source": [
        "print(\"Local Path Variables:\\n\")\n",
        "\n",
        "models_path = \"models\" #@param {type:\"string\"}\n",
        "output_path = \"output\" #@param {type:\"string\"}\n",
        "\n",
        "#@markdown\n",
        "model_checkpoint = \"Lykon/DreamShaper\" #@param @param [\"Lykon/DreamShaper\",\"claudfuen/photorealistic-fuen-v1\",\"nitrosocke/Nitro-Diffusion\",\"XpucT/Deliberate\",\"runwayml/stable-diffusion-v1-5\"] {allow-input: true}\n",
        "\n",
        "URL_MAP = {\n",
        "    \"Lykon/DreamShaper\": \"https://huggingface.co/Lykon/DreamShaper/resolve/main/Dreamshaper_3.32_baked_vae_clip_fix.ckpt\",\n",
        "    \"claudfuen/photorealistic-fuen-v1\": \"https://huggingface.co/claudfuen/photorealistic-fuen-v1/resolve/main/model.ckpt\",\n",
        "    \"nitrosocke/Nitro-Diffusion\" : \"https://huggingface.co/nitrosocke/Nitro-Diffusion/resolve/main/nitroDiffusion-v1.ckpt\",\n",
        "    \"XpucT/Deliberate\": \"https://huggingface.co/XpucT/Deliberate/resolve/main/Deliberate.safetensors\",\n",
        "    \"runwayml/stable-diffusion-v1-5\": \"https://huggingface.co/runwayml/stable-diffusion-v1-5/resolve/main/v1-5-pruned-emaonly.ckpt\"\n",
        "}\n",
        "\n",
        "import os\n",
        "os.makedirs(models_path, exist_ok=True)\n",
        "os.makedirs(output_path, exist_ok=True)\n",
        "\n",
        "model_url = URL_MAP[model_checkpoint]\n",
        "model_checkpoint = model_checkpoint.replace(\"/\", \"_\")\n",
        "model_checkpoint += \".ckpt\" if \".ckpt\" in model_checkpoint else \".safetensors\"\n",
        "if not os.path.exists(f'/content/{models_path}/{model_checkpoint}'):\n",
        "    # !git lfs install --system --skip-repo\n",
        "    # !mkdir sd-model\n",
        "    # %cd /content/sd-model/\n",
        "    # !git init\n",
        "    !wget -P '/content/{models_path}' {model_url} -O '/content/{models_path}/{model_checkpoint}'\n",
        "else:\n",
        "    print(\"Model already downloaded. Moving on to the next step\")\n",
        "\n",
        "print(f\"models_path: {models_path}\")\n",
        "print(f\"output_path: {output_path}\")"
      ]
    },
    {
      "cell_type": "markdown",
      "metadata": {
        "id": "ip0o1IqmQNON"
      },
      "source": [
        "## Sygil WebUI Settings"
      ]
    },
    {
      "cell_type": "code",
      "execution_count": null,
      "metadata": {
        "cellView": "form",
        "id": "3t1DaxIfRmSm"
      },
      "outputs": [],
      "source": [
        "share_password=\"\" #@param {type:\"string\"}\n",
        "#@markdown * Add a password to access your WebUI\n",
        "defaults=\"configs/webui/webui.yaml\" #@param {type:\"string\"}\n",
        "#@markdown * Path to configuration file providing WebUI defaults, uses same format as cli parameter.\n",
        "#@markdown Edit this file if you want to change the default settings UI launches with.\n",
        "\n",
        "#@markdown ---\n",
        "save_metadata = False #@param {type:\"boolean\"}\n",
        "#@markdown * Whether to embed the generation parameters in the sample images\n",
        "skip_grid = False #@param {type:\"boolean\"}\n",
        "#@markdown * Do not save a grid, only individual samples. Helpful when evaluating lots of samples\n",
        "skip_save = False #@param {type:\"boolean\"}\n",
        "#@markdown * Do not save individual samples as files. For speed measurements\n",
        "optimized = False #@param {type:\"boolean\"}\n",
        "#@markdown * Load the model onto the device piecemeal instead of all at once to reduce VRAM usage at the cost of performance\n",
        "optimized_turbo = True #@param {type:\"boolean\"}\n",
        "#@markdown * Alternative optimization mode that does not save as much VRAM but runs siginificantly faster\n",
        "no_verify_input = False #@param {type:\"boolean\"}\n",
        "#@markdown * Do not verify input to check if it's too long\n",
        "no_half = False #@param {type:\"boolean\"}\n",
        "#@markdown * Do not switch the model to 16-bit floats\n",
        "no_progressbar_hiding = True #@param {type:\"boolean\"}\n",
        "#@markdown * Do not hide progressbar in gradio UI\n",
        "extra_models_cpu = False #@param {type:\"boolean\"}\n",
        "#@markdown * Run extra models (GFGPAN/ESRGAN) on cpu\n",
        "esrgan_cpu = True #@param {type:\"boolean\"}\n",
        "#@markdown * run ESRGAN on cpu\n",
        "gfpgan_cpu = False #@param {type:\"boolean\"}\n",
        "#@markdown * run GFPGAN on cpu\n",
        "\n",
        "\n",
        "run_string_with_variables = {\n",
        " '--save-metadata': f'{save_metadata}',\n",
        " '--skip-grid': f'{skip_grid}',\n",
        " '--skip-save': f'{skip_save}',\n",
        " '--optimized': f'{optimized}',\n",
        " '--optimized-turbo': f'{optimized_turbo}',\n",
        " '--no-verify-input': f'{no_verify_input}',\n",
        " '--no-half': f'{no_half}',\n",
        " '--no-progressbar-hiding': f'{no_progressbar_hiding}',\n",
        " '--extra-models-cpu': f'{extra_models_cpu}',\n",
        " '--esrgan-cpu': f'{esrgan_cpu}',\n",
        " '--gfpgan-cpu': f'{gfpgan_cpu}'}\n",
        "\n",
        "only_true_vars = {k for (k,v) in run_string_with_variables.items() if v == 'True'}\n",
        "vars = \" \".join(only_true_vars)\n"
      ]
    },
    {
      "cell_type": "markdown",
      "metadata": {
        "id": "E1kYjBY9Rmi-"
      },
      "source": [
        "## Launch WebUI for Stable Diffusion\n",
        "\n",
        "#### **AMLA Members**\n",
        "\n",
        "Do not change the value of `Images per batch`. Otherwise, no generated image will appear on the WebUI, although all generated images are saved to `sygil-webui/outputs` locally.\n",
        "\n",
        "Play with the the length of the input text, `width`, `height`, `CFG`, `sampling steps`, `sampling method`, and `image-to-image` to visualize the basic functionalities of Stable Diffusion. Answer the following questions before continuing with our next lecture: \n",
        "- What image dimensions (width and height ratios) cause the output to look distorted? Why may this be the case? Recall that models based on Stable Diffusion v1.5 are often trained on 512x512 images.\n",
        "- How can you avoid duplicate bodies or faces in image generation? In how many ways can you teach the diffusion model to generate higher resolution images? Use your knowledge of GANs and VAEs from previous sections of this unit.\n",
        "- RunwayML trained Stable Diffusion v1.5 on a dataset of 512x512 images. How can the diffusion process still sometimes generate coherent 640x640 images?\n",
        "\n",
        "Click the public URL to launch WebUI in another tab. "
      ]
    },
    {
      "cell_type": "code",
      "execution_count": null,
      "metadata": {
        "cellView": "form",
        "id": "BTH_drY9KZ4k"
      },
      "outputs": [],
      "source": [
        "#@markdown ![](https://user-images.githubusercontent.com/463317/187105407-dd9b0f4e-c8da-49d3-8c78-1767f5c9aa83.jpg)\n",
        "\n",
        "#fix adding share_password to the launch params, and also changin {vars} to $vars as it was causing webui.py to fail.\n",
        "\n",
        "%cd /content/stable-diffusion\n",
        "\n",
        "if share_password == \"\":\n",
        "  !python scripts/webui.py \\\n",
        "  --ckpt '{models_path}/{model_checkpoint}' \\\n",
        "  --outdir '{output_path}' \\\n",
        "  --share $vars\n",
        "else:\n",
        "  !python scripts/webui.py \\\n",
        "  --ckpt '{models_path}/{model_checkpoint}' \\\n",
        "  --outdir '{output_path}' \\\n",
        "  --share-password '{share_password}' \\\n",
        "  --share $vars"
      ]
    }
  ],
  "metadata": {
    "accelerator": "GPU",
    "colab": {
      "machine_shape": "hm",
      "provenance": []
    },
    "gpuClass": "standard",
    "kernelspec": {
      "display_name": "Python 3",
      "name": "python3"
    },
    "language_info": {
      "name": "python"
    }
  },
  "nbformat": 4,
  "nbformat_minor": 0
}